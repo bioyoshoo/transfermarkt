{
 "cells": [
  {
   "cell_type": "code",
   "execution_count": 7,
   "metadata": {},
   "outputs": [],
   "source": [
    "from selenium import webdriver\n",
    "from selenium.webdriver.chrome.service import Service\n",
    "from selenium.webdriver.chrome.options import Options\n",
    "import numpy as np\n",
    "import pandas as pd\n",
    "from transfermarkt import TransferMarkt"
   ]
  },
  {
   "cell_type": "code",
   "execution_count": 8,
   "metadata": {},
   "outputs": [
    {
     "name": "stdout",
     "output_type": "stream",
     "text": [
      "OK: Germany : Bundesliga\n",
      "OK: Germany : 2. Bundesliga\n",
      "OK: Germany : 3. Liga\n",
      "OK: Germany : Regionalliga Nord\n",
      "OK: Germany : Regionalliga Nordost\n",
      "OK: Germany : Regionalliga West\n",
      "OK: Germany : Regionalliga Südwest\n",
      "OK: Germany : Regionalliga Bayern\n",
      "OK: Germany : Oberliga Westfalen\n",
      "OK: Germany : Oberliga Niederrhein\n",
      "OK: Germany : Mittelrheinliga\n",
      "OK: Germany : Bayernliga Nord\n",
      "OK: Germany : Bayernliga Süd\n",
      "OK: Germany : Oberliga Rheinland-Pfalz/Saar\n",
      "OK: Germany : Oberliga Baden-Württemberg\n",
      "OK: Germany : Hessenliga\n",
      "OK: Germany : Oberliga Hamburg\n",
      "OK: Germany : NOFV-Oberliga Nord\n",
      "OK: Germany : NOFV-Oberliga Süd\n",
      "OK: Germany : Bremenliga\n",
      "OK: Germany : Oberliga Schleswig-Holstein\n",
      "OK: Germany : Oberliga Niedersachsen\n",
      "OK: Germany : Landesliga Bremen\n",
      "OK: Germany : Verbandsliga Mecklenburg-Vorpommern\n",
      "OK: Germany : Landesliga Lüneburg\n",
      "OK: Germany : Berlin-Liga\n",
      "OK: Germany : Verbandsliga Sachsen-Anhalt\n",
      "OK: Germany : Landesliga Sachsen\n",
      "OK: Germany : Rheinlandliga\n",
      "OK: Germany : Verbandsliga Südwest\n",
      "OK: Germany : Verbandsliga Hessen-Nord\n",
      "OK: Germany : Verbandsliga Hessen-Mitte\n",
      "OK: Germany : Verbandsliga Hessen-Süd\n",
      "OK: Germany : Verbandsliga Nordbaden\n",
      "OK: Germany : Thüringenliga\n",
      "OK: Germany : Landesliga Niederrhein - Gruppe 3\n",
      "OK: Germany : Westfalenliga 1\n",
      "OK: Germany : Westfalenliga 2\n",
      "OK: Germany : Landesliga Niederrhein - Gruppe 2\n",
      "OK: Germany : Landesliga Schleswig-Holstein Mitte\n",
      "OK: Germany : Landesliga Bayern Nordost\n",
      "OK: Germany : Landesliga Bayern Nordwest\n",
      "OK: Germany : Landesliga Niederrhein - Gruppe 1\n",
      "OK: Germany : Landesliga Schleswig\n",
      "OK: Germany : Landesliga Braunschweig\n",
      "OK: Germany : Landesliga Holstein\n",
      "OK: Germany : Landesliga Hannover\n",
      "OK: Germany : Landesliga Weser-Ems\n",
      "OK: Germany : Brandenburgliga\n",
      "OK: Germany : Landesliga Bayern Südost\n",
      "OK: Germany : Landesliga Bayern-Mitte\n",
      "OK: Germany : Schröder-Liga Saar\n",
      "OK: Germany : Verbandsliga Württemberg\n",
      "OK: Germany : Verbandsliga Südbaden\n",
      "OK: Germany : Landesliga Mittelrhein Staffel 1\n",
      "OK: Germany : Landesliga Mittelrhein Staffel 2\n",
      "OK: Germany : Landesliga Bayern Südwest\n",
      "OK: Germany : Landesliga Hamburg (ab 2021/22)\n",
      "OK: Germany : A-Junioren Bundesliga Nord/Nordost\n",
      "OK: Germany : A-Junioren Bundesliga West\n",
      "OK: Germany : A-Junioren Bundesliga Süd/Südwest\n",
      "OK: Germany : B-Junioren Bundesliga Nord/Nordost\n",
      "OK: Germany : B-Junioren Bundesliga West\n",
      "OK: Germany : B-Junioren Bundesliga Süd/Südwest\n",
      "done!\n"
     ]
    }
   ],
   "source": [
    "options = Options()\n",
    "options.page_load_strategy = 'none'\n",
    "\n",
    "driver = webdriver.Chrome(\"C:/Users/yoshi/webdriver/chromedriver_win32/chromedriver.exe\", options=options)\n",
    "\n",
    "headers = {\"User-agent\": \"Mozilla/5.0 (Windows NT 10.0; Win64; x64) AppleWebKit/537.36 (KHTML, like Gecko) Chrome/92.0.4515.159 Safari/537.36 Edg/92.0.902.84\"}\n",
    "\n",
    "# transfermarktのホームページ開いて動的に操作したい場合(各リーグの詳細テーブルのURLを取得したい時など)はdriver引数の設定が必要\n",
    "# 詳細テーブルのURLからscraypingしたい時はrequestsに渡すheaders引数を設定する必要がある\n",
    "tf = TransferMarkt(driver, headers)\n",
    "\n",
    "output_df = tf.make_empty_df()\n",
    "error_df = pd.DataFrame(np.zeros((0, 4)), columns=[\"Country\", \"Competition\", \"Error\", \"Message\"])\n",
    "\n",
    "# とりあえず\"Japan\"と\"England\" [\"Japan\", \"England\"]\n",
    "# 次に [\"Italy\", \"Spain\"]\n",
    "# ここのリストに取得したい国名を入れる\n",
    "# tf.search_all_country()で全世界の国名入ったリストが得られる\n",
    "# ここではGermanyの全てのリーグのデータを取得する\n",
    "for country in [\"Germany\"]:\n",
    "    # その国の全てのcompetiotonを検索\n",
    "    for i, comp in enumerate(tf.search_competition(country)):\n",
    "        \n",
    "        try:\n",
    "            if i == 0:\n",
    "                detail_url = tf.guide_from_country_and_league_to_leagueurl(country, comp)\n",
    "            else:\n",
    "                detail_url = tf.guide_from_country_and_league_to_leagueurl(country, comp, same_country=True)\n",
    "        except Exception as e:\n",
    "            print(\"URL-ERROR:\", country, \":\", comp)\n",
    "            print(\"MESSAGE: \", e)\n",
    "            error_info = np.array([country, comp, \"URL-ERROR\", e]).reshape(1, -1)\n",
    "            error_info_df = pd.DataFrame(error_info, columns=error_df.columns)\n",
    "            error_df = pd.concat([error_df, error_info_df])\n",
    "            continue\n",
    "\n",
    "        if detail_url:\n",
    "            try:\n",
    "                # detail_urlがNoneではなかったらスクレイピングを行う\n",
    "                df = tf.scrayping_this_league(detail_url)\n",
    "            except Exception as e:\n",
    "                print(\"SCRAYPING-ERROR:\", country, \":\", comp)\n",
    "                print(\"MESSAGE: \", e)\n",
    "                error_info = np.array([country, comp, \"SCRAYPING-ERROR\", e]).reshape(1, -1)\n",
    "                error_info_df = pd.DataFrame(error_info, columns=error_df.columns)\n",
    "                error_df = pd.concat([error_df, error_info_df])\n",
    "            else:\n",
    "                output_df = pd.concat([output_df, df])\n",
    "                print(\"OK:\", country, \":\", comp)\n",
    "            \n",
    "# ここのファイル名もその都度変える!!!! 上書きされないように!!!\n",
    "output_df.to_csv(\"./output_dataframe/Germany.csv\", index=False)\n",
    "output_df.to_csv(\"./output_dataframe/Germany_Error.csv\", index=False)\n",
    "\n",
    "driver.close()\n",
    "driver.quit()\n",
    "\n",
    "print(\"done!\")\n"
   ]
  },
  {
   "cell_type": "code",
   "execution_count": 9,
   "metadata": {},
   "outputs": [],
   "source": [
    "import os"
   ]
  },
  {
   "cell_type": "code",
   "execution_count": 10,
   "metadata": {},
   "outputs": [
    {
     "data": {
      "text/plain": [
       "True"
      ]
     },
     "execution_count": 10,
     "metadata": {},
     "output_type": "execute_result"
    }
   ],
   "source": [
    "os.path.exists(\"./output_dataframe/\")"
   ]
  }
 ],
 "metadata": {
  "kernelspec": {
   "display_name": "Python 3",
   "language": "python",
   "name": "python3"
  },
  "language_info": {
   "codemirror_mode": {
    "name": "ipython",
    "version": 3
   },
   "file_extension": ".py",
   "mimetype": "text/x-python",
   "name": "python",
   "nbconvert_exporter": "python",
   "pygments_lexer": "ipython3",
   "version": "3.7.6"
  }
 },
 "nbformat": 4,
 "nbformat_minor": 4
}
